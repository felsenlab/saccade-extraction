{
 "cells": [
  {
   "cell_type": "markdown",
   "id": "4fc63168",
   "metadata": {},
   "source": [
    "### Description"
   ]
  },
  {
   "cell_type": "markdown",
   "id": "1da27a27",
   "metadata": {},
   "source": [
    "This notebook provides an overview of the saccade extraction workflow."
   ]
  },
  {
   "cell_type": "markdown",
   "id": "44b51712",
   "metadata": {},
   "source": [
    "### Import all the necesarry functions"
   ]
  },
  {
   "cell_type": "code",
   "execution_count": 1,
   "id": "57276298",
   "metadata": {},
   "outputs": [],
   "source": [
    "from saccade_extraction import (\n",
    "    initializeProject,\n",
    "    addNewSessions,\n",
    "    labelPutativeSaccades,\n",
    "    createTrainingDataset,\n",
    "    trainModels,\n",
    "    extractRealSaccades,\n",
    "    validatePredictions\n",
    ")"
   ]
  },
  {
   "cell_type": "markdown",
   "id": "2325c13a",
   "metadata": {},
   "source": [
    "### 1. Initialize a project"
   ]
  },
  {
   "cell_type": "markdown",
   "id": "2e297f18",
   "metadata": {},
   "source": [
    "The `initializeProject` function will make a new directory with a standard file structure and generate a config file. You will only need to do this once. The config file specifies the following parameters:\n",
    "* `velocityThreshold` - Velocity threshold for peak detection (in percentiles)\n",
    "* `minimumPeakDistance` - Minimum distance between putative saccades (in seconds) for peak detection\n",
    "* `responseWindow` - Time window around saccades\n",
    "* `nFeatures` - Number of time points for resampling"
   ]
  },
  {
   "cell_type": "code",
   "execution_count": 2,
   "id": "b12ec2b5",
   "metadata": {},
   "outputs": [
    {
     "name": "stdout",
     "output_type": "stream",
     "text": [
      "You can find the config file here: /home/josh/Desktop/dummy_project/config.yaml\n"
     ]
    }
   ],
   "source": [
    "projectDirectory = '/home/josh/Desktop/dummy_project'\n",
    "configFile = initializeProject(projectDirectory)\n",
    "print(f'You can find the config file here: {configFile}')"
   ]
  },
  {
   "cell_type": "markdown",
   "id": "4fbaba5a",
   "metadata": {},
   "source": [
    "### 2. Extract putative saccades for labeling ###"
   ]
  },
  {
   "cell_type": "markdown",
   "id": "0cf3efaf",
   "metadata": {},
   "source": [
    "The `addNewSessions` function processes the pose estimates and extracts high-velocity eye movements, i.e., putative saccades. You need to pass it a list of tuples in which each tuple contains the file path to the pose estimate output by DeepLabCut and the filepath to the file that stores the inter-frame intervals for that video recording. This only needs to be done if you intend to collect training data from a particular recording."
   ]
  },
  {
   "cell_type": "code",
   "execution_count": null,
   "id": "0acd2c0c",
   "metadata": {},
   "outputs": [],
   "source": [
    "fileSets = [(\n",
    "    '/home/jbhunt/Dropbox/Data/20240402_unitME_session002_rightCam-0000DLC_resnet50_sacnetJan29shuffle1_1030000.csv',\n",
    "    '/home/jbhunt/Dropbox/Data/20240402_unitME_session002_rightCam_timestamps.txt',\n",
    ")]\n",
    "addNewSessions(configFile, fileSets)"
   ]
  },
  {
   "cell_type": "markdown",
   "id": "4a7a2c99",
   "metadata": {},
   "source": [
    "### 3. Label a subset of the putative saccades"
   ]
  },
  {
   "cell_type": "markdown",
   "id": "e3df079f",
   "metadata": {},
   "source": [
    "Use the saccade labeling GUI to collect information about the putative saccades. For each putative saccade you wish to label, follow this workflow:\n",
    "1. Open any of the folders you created by calling the `addNewSessions` function by clicking on the `Open` button.\n",
    "2. Use the radio buttons on the left to indicate the direction of the saccade. Use the description on the y-axis of the top-left plot to judge whether the saccade moves the eye in the nasal or temporal direction. If you don't think the putative saccade is a real saccade, select the \"Not a saccade\" radio button.\n",
    "3. Indicate when the saccade starts. Make sure you have enabled the `Start` line selector checkbox, then click anywhere on the Matplotlib figure. You should see the left vertical line turn green\n",
    "4. Indicate when the saccade stops. Make sure you have enabled the `Stop` line selector checkbox, then click anywhere on the Matplotlib figure. You should see the right vertical line turn red.\n",
    "5. Save your progress by clicking the `Save` button."
   ]
  },
  {
   "cell_type": "markdown",
   "id": "a13657ea",
   "metadata": {},
   "source": [
    "gui = labelPutativeSaccades(configFile)"
   ]
  },
  {
   "cell_type": "markdown",
   "id": "30f30647",
   "metadata": {},
   "source": [
    "### 4. Create a training dataset"
   ]
  },
  {
   "cell_type": "markdown",
   "id": "e3c078bd",
   "metadata": {},
   "source": [
    "The `createTrainingDataset` function will collect all manually collected information and generate a dataset that will be used for training below. You only need to run this funciton if you have collected new training data since you last trained the models."
   ]
  },
  {
   "cell_type": "code",
   "execution_count": null,
   "id": "28b7f82f",
   "metadata": {},
   "outputs": [],
   "source": [
    "createTrainingDataset(configFile)"
   ]
  },
  {
   "cell_type": "markdown",
   "id": "9792d973",
   "metadata": {},
   "source": [
    "### 5. Train your models"
   ]
  },
  {
   "cell_type": "markdown",
   "id": "9c393c6a",
   "metadata": {},
   "source": [
    "The `trainModels` function will use cross-validation to search a hyperparameter space for the unique combination of hyperparameters that result in the best classification and regression performance. This function accepts the keyword argument `trainingDatasetIndex` which specifies which training dataset to train on. The default behavior is for the models to train on the most recently generated training dataset, i.e., `trainingDatasetIndex=-1`. You only need to run this function if you have generated a new training dataset."
   ]
  },
  {
   "cell_type": "code",
   "execution_count": null,
   "id": "725ac922",
   "metadata": {},
   "outputs": [],
   "source": [
    "trainModels(configFile, trainingDatasetIndex=-1)"
   ]
  },
  {
   "cell_type": "markdown",
   "id": "bfbd1380",
   "metadata": {},
   "source": [
    "### 6. Extract real saccades"
   ]
  },
  {
   "cell_type": "markdown",
   "id": "7aff8cad",
   "metadata": {},
   "source": [
    "The `extractRealSaccades` function uses the models trained above to extract real saccades from the DeepLabCut pose estimates. It works much like the `addNewSessions` function in that you need to pass it a list of tuples where each tuple contains the path to a pose estimate and the path to the associated inter-frame intervals file. You can process as many recordings at once as you want. Currently, this functions saves these 2 files in the same directory as the pose estimates:\n",
    "* `real_saccade_waveforms.npy` (N saccades x M features) - The positional saccade waveforms for all real saccades\n",
    "* `real_saccade_labels.npy` (N saccades x 3) - The predicted saccade direction (column 1) and the fractional frame index for the saccade onset (column 2) and offset (column 3)"
   ]
  },
  {
   "cell_type": "code",
   "execution_count": null,
   "id": "90cccae8",
   "metadata": {},
   "outputs": [],
   "source": [
    "fileSets = [\n",
    "    ('Path to pose estimates', 'Path to inter-frame intervals file'),\n",
    "    ('Another path to pose estimates', 'Another path to inter-frame intervals file')\n",
    "]\n",
    "extractRealSaccades(\n",
    "    configData,\n",
    "    fileSets,\n",
    ")"
   ]
  },
  {
   "cell_type": "markdown",
   "id": "76849180",
   "metadata": {},
   "source": [
    "### 7. Validation"
   ]
  },
  {
   "cell_type": "markdown",
   "id": "6a382e46",
   "metadata": {},
   "source": [
    "To validate the predictions made by the models, you can use the `validatePredictions` function. This will plot the nasal-temporal component of the eye position, then plot the start of each saccade as a vertical line. The direction of the saccade is indicated by the color of the vertical lines."
   ]
  },
  {
   "cell_type": "code",
   "execution_count": null,
   "id": "78305992",
   "metadata": {},
   "outputs": [],
   "source": [
    "dlcFile = 'Path to pose estimates'\n",
    "saccadePredictionsFile = 'Path to real_saccade_labels.npy file'\n",
    "fig, ax = validatePredictions(\n",
    "    dlcFile,\n",
    "    saccadePredictionsFile,\n",
    ")"
   ]
  }
 ],
 "metadata": {
  "kernelspec": {
   "display_name": "Python 3 (ipykernel)",
   "language": "python",
   "name": "python3"
  },
  "language_info": {
   "codemirror_mode": {
    "name": "ipython",
    "version": 3
   },
   "file_extension": ".py",
   "mimetype": "text/x-python",
   "name": "python",
   "nbconvert_exporter": "python",
   "pygments_lexer": "ipython3",
   "version": "3.10.12"
  }
 },
 "nbformat": 4,
 "nbformat_minor": 5
}
